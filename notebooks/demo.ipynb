{
 "cells": [
  {
   "cell_type": "code",
   "execution_count": 1,
   "metadata": {
    "collapsed": false
   },
   "outputs": [],
   "source": [
    "%matplotlib notebook\n",
    "import calour as ca"
   ]
  },
  {
   "cell_type": "code",
   "execution_count": 2,
   "metadata": {
    "collapsed": false
   },
   "outputs": [
    {
     "data": {
      "application/javascript": [
       "/* Put everything inside the global mpl namespace */\n",
       "window.mpl = {};\n",
       "\n",
       "\n",
       "mpl.get_websocket_type = function() {\n",
       "    if (typeof(WebSocket) !== 'undefined') {\n",
       "        return WebSocket;\n",
       "    } else if (typeof(MozWebSocket) !== 'undefined') {\n",
       "        return MozWebSocket;\n",
       "    } else {\n",
       "        alert('Your browser does not have WebSocket support.' +\n",
       "              'Please try Chrome, Safari or Firefox ≥ 6. ' +\n",
       "              'Firefox 4 and 5 are also supported but you ' +\n",
       "              'have to enable WebSockets in about:config.');\n",
       "    };\n",
       "}\n",
       "\n",
       "mpl.figure = function(figure_id, websocket, ondownload, parent_element) {\n",
       "    this.id = figure_id;\n",
       "\n",
       "    this.ws = websocket;\n",
       "\n",
       "    this.supports_binary = (this.ws.binaryType != undefined);\n",
       "\n",
       "    if (!this.supports_binary) {\n",
       "        var warnings = document.getElementById(\"mpl-warnings\");\n",
       "        if (warnings) {\n",
       "            warnings.style.display = 'block';\n",
       "            warnings.textContent = (\n",
       "                \"This browser does not support binary websocket messages. \" +\n",
       "                    \"Performance may be slow.\");\n",
       "        }\n",
       "    }\n",
       "\n",
       "    this.imageObj = new Image();\n",
       "\n",
       "    this.context = undefined;\n",
       "    this.message = undefined;\n",
       "    this.canvas = undefined;\n",
       "    this.rubberband_canvas = undefined;\n",
       "    this.rubberband_context = undefined;\n",
       "    this.format_dropdown = undefined;\n",
       "\n",
       "    this.image_mode = 'full';\n",
       "\n",
       "    this.root = $('<div/>');\n",
       "    this._root_extra_style(this.root)\n",
       "    this.root.attr('style', 'display: inline-block');\n",
       "\n",
       "    $(parent_element).append(this.root);\n",
       "\n",
       "    this._init_header(this);\n",
       "    this._init_canvas(this);\n",
       "    this._init_toolbar(this);\n",
       "\n",
       "    var fig = this;\n",
       "\n",
       "    this.waiting = false;\n",
       "\n",
       "    this.ws.onopen =  function () {\n",
       "            fig.send_message(\"supports_binary\", {value: fig.supports_binary});\n",
       "            fig.send_message(\"send_image_mode\", {});\n",
       "            if (mpl.ratio != 1) {\n",
       "                fig.send_message(\"set_dpi_ratio\", {'dpi_ratio': mpl.ratio});\n",
       "            }\n",
       "            fig.send_message(\"refresh\", {});\n",
       "        }\n",
       "\n",
       "    this.imageObj.onload = function() {\n",
       "            if (fig.image_mode == 'full') {\n",
       "                // Full images could contain transparency (where diff images\n",
       "                // almost always do), so we need to clear the canvas so that\n",
       "                // there is no ghosting.\n",
       "                fig.context.clearRect(0, 0, fig.canvas.width, fig.canvas.height);\n",
       "            }\n",
       "            fig.context.drawImage(fig.imageObj, 0, 0);\n",
       "        };\n",
       "\n",
       "    this.imageObj.onunload = function() {\n",
       "        this.ws.close();\n",
       "    }\n",
       "\n",
       "    this.ws.onmessage = this._make_on_message_function(this);\n",
       "\n",
       "    this.ondownload = ondownload;\n",
       "}\n",
       "\n",
       "mpl.figure.prototype._init_header = function() {\n",
       "    var titlebar = $(\n",
       "        '<div class=\"ui-dialog-titlebar ui-widget-header ui-corner-all ' +\n",
       "        'ui-helper-clearfix\"/>');\n",
       "    var titletext = $(\n",
       "        '<div class=\"ui-dialog-title\" style=\"width: 100%; ' +\n",
       "        'text-align: center; padding: 3px;\"/>');\n",
       "    titlebar.append(titletext)\n",
       "    this.root.append(titlebar);\n",
       "    this.header = titletext[0];\n",
       "}\n",
       "\n",
       "\n",
       "\n",
       "mpl.figure.prototype._canvas_extra_style = function(canvas_div) {\n",
       "\n",
       "}\n",
       "\n",
       "\n",
       "mpl.figure.prototype._root_extra_style = function(canvas_div) {\n",
       "\n",
       "}\n",
       "\n",
       "mpl.figure.prototype._init_canvas = function() {\n",
       "    var fig = this;\n",
       "\n",
       "    var canvas_div = $('<div/>');\n",
       "\n",
       "    canvas_div.attr('style', 'position: relative; clear: both; outline: 0');\n",
       "\n",
       "    function canvas_keyboard_event(event) {\n",
       "        return fig.key_event(event, event['data']);\n",
       "    }\n",
       "\n",
       "    canvas_div.keydown('key_press', canvas_keyboard_event);\n",
       "    canvas_div.keyup('key_release', canvas_keyboard_event);\n",
       "    this.canvas_div = canvas_div\n",
       "    this._canvas_extra_style(canvas_div)\n",
       "    this.root.append(canvas_div);\n",
       "\n",
       "    var canvas = $('<canvas/>');\n",
       "    canvas.addClass('mpl-canvas');\n",
       "    canvas.attr('style', \"left: 0; top: 0; z-index: 0; outline: 0\")\n",
       "\n",
       "    this.canvas = canvas[0];\n",
       "    this.context = canvas[0].getContext(\"2d\");\n",
       "\n",
       "    var backingStore = this.context.backingStorePixelRatio ||\n",
       "\tthis.context.webkitBackingStorePixelRatio ||\n",
       "\tthis.context.mozBackingStorePixelRatio ||\n",
       "\tthis.context.msBackingStorePixelRatio ||\n",
       "\tthis.context.oBackingStorePixelRatio ||\n",
       "\tthis.context.backingStorePixelRatio || 1;\n",
       "\n",
       "    mpl.ratio = (window.devicePixelRatio || 1) / backingStore;\n",
       "\n",
       "    var rubberband = $('<canvas/>');\n",
       "    rubberband.attr('style', \"position: absolute; left: 0; top: 0; z-index: 1;\")\n",
       "\n",
       "    var pass_mouse_events = true;\n",
       "\n",
       "    canvas_div.resizable({\n",
       "        start: function(event, ui) {\n",
       "            pass_mouse_events = false;\n",
       "        },\n",
       "        resize: function(event, ui) {\n",
       "            fig.request_resize(ui.size.width, ui.size.height);\n",
       "        },\n",
       "        stop: function(event, ui) {\n",
       "            pass_mouse_events = true;\n",
       "            fig.request_resize(ui.size.width, ui.size.height);\n",
       "        },\n",
       "    });\n",
       "\n",
       "    function mouse_event_fn(event) {\n",
       "        if (pass_mouse_events)\n",
       "            return fig.mouse_event(event, event['data']);\n",
       "    }\n",
       "\n",
       "    rubberband.mousedown('button_press', mouse_event_fn);\n",
       "    rubberband.mouseup('button_release', mouse_event_fn);\n",
       "    // Throttle sequential mouse events to 1 every 20ms.\n",
       "    rubberband.mousemove('motion_notify', mouse_event_fn);\n",
       "\n",
       "    rubberband.mouseenter('figure_enter', mouse_event_fn);\n",
       "    rubberband.mouseleave('figure_leave', mouse_event_fn);\n",
       "\n",
       "    canvas_div.on(\"wheel\", function (event) {\n",
       "        event = event.originalEvent;\n",
       "        event['data'] = 'scroll'\n",
       "        if (event.deltaY < 0) {\n",
       "            event.step = 1;\n",
       "        } else {\n",
       "            event.step = -1;\n",
       "        }\n",
       "        mouse_event_fn(event);\n",
       "    });\n",
       "\n",
       "    canvas_div.append(canvas);\n",
       "    canvas_div.append(rubberband);\n",
       "\n",
       "    this.rubberband = rubberband;\n",
       "    this.rubberband_canvas = rubberband[0];\n",
       "    this.rubberband_context = rubberband[0].getContext(\"2d\");\n",
       "    this.rubberband_context.strokeStyle = \"#000000\";\n",
       "\n",
       "    this._resize_canvas = function(width, height) {\n",
       "        // Keep the size of the canvas, canvas container, and rubber band\n",
       "        // canvas in synch.\n",
       "        canvas_div.css('width', width)\n",
       "        canvas_div.css('height', height)\n",
       "\n",
       "        canvas.attr('width', width * mpl.ratio);\n",
       "        canvas.attr('height', height * mpl.ratio);\n",
       "        canvas.attr('style', 'width: ' + width + 'px; height: ' + height + 'px;');\n",
       "\n",
       "        rubberband.attr('width', width);\n",
       "        rubberband.attr('height', height);\n",
       "    }\n",
       "\n",
       "    // Set the figure to an initial 600x600px, this will subsequently be updated\n",
       "    // upon first draw.\n",
       "    this._resize_canvas(600, 600);\n",
       "\n",
       "    // Disable right mouse context menu.\n",
       "    $(this.rubberband_canvas).bind(\"contextmenu\",function(e){\n",
       "        return false;\n",
       "    });\n",
       "\n",
       "    function set_focus () {\n",
       "        canvas.focus();\n",
       "        canvas_div.focus();\n",
       "    }\n",
       "\n",
       "    window.setTimeout(set_focus, 100);\n",
       "}\n",
       "\n",
       "mpl.figure.prototype._init_toolbar = function() {\n",
       "    var fig = this;\n",
       "\n",
       "    var nav_element = $('<div/>')\n",
       "    nav_element.attr('style', 'width: 100%');\n",
       "    this.root.append(nav_element);\n",
       "\n",
       "    // Define a callback function for later on.\n",
       "    function toolbar_event(event) {\n",
       "        return fig.toolbar_button_onclick(event['data']);\n",
       "    }\n",
       "    function toolbar_mouse_event(event) {\n",
       "        return fig.toolbar_button_onmouseover(event['data']);\n",
       "    }\n",
       "\n",
       "    for(var toolbar_ind in mpl.toolbar_items) {\n",
       "        var name = mpl.toolbar_items[toolbar_ind][0];\n",
       "        var tooltip = mpl.toolbar_items[toolbar_ind][1];\n",
       "        var image = mpl.toolbar_items[toolbar_ind][2];\n",
       "        var method_name = mpl.toolbar_items[toolbar_ind][3];\n",
       "\n",
       "        if (!name) {\n",
       "            // put a spacer in here.\n",
       "            continue;\n",
       "        }\n",
       "        var button = $('<button/>');\n",
       "        button.addClass('ui-button ui-widget ui-state-default ui-corner-all ' +\n",
       "                        'ui-button-icon-only');\n",
       "        button.attr('role', 'button');\n",
       "        button.attr('aria-disabled', 'false');\n",
       "        button.click(method_name, toolbar_event);\n",
       "        button.mouseover(tooltip, toolbar_mouse_event);\n",
       "\n",
       "        var icon_img = $('<span/>');\n",
       "        icon_img.addClass('ui-button-icon-primary ui-icon');\n",
       "        icon_img.addClass(image);\n",
       "        icon_img.addClass('ui-corner-all');\n",
       "\n",
       "        var tooltip_span = $('<span/>');\n",
       "        tooltip_span.addClass('ui-button-text');\n",
       "        tooltip_span.html(tooltip);\n",
       "\n",
       "        button.append(icon_img);\n",
       "        button.append(tooltip_span);\n",
       "\n",
       "        nav_element.append(button);\n",
       "    }\n",
       "\n",
       "    var fmt_picker_span = $('<span/>');\n",
       "\n",
       "    var fmt_picker = $('<select/>');\n",
       "    fmt_picker.addClass('mpl-toolbar-option ui-widget ui-widget-content');\n",
       "    fmt_picker_span.append(fmt_picker);\n",
       "    nav_element.append(fmt_picker_span);\n",
       "    this.format_dropdown = fmt_picker[0];\n",
       "\n",
       "    for (var ind in mpl.extensions) {\n",
       "        var fmt = mpl.extensions[ind];\n",
       "        var option = $(\n",
       "            '<option/>', {selected: fmt === mpl.default_extension}).html(fmt);\n",
       "        fmt_picker.append(option)\n",
       "    }\n",
       "\n",
       "    // Add hover states to the ui-buttons\n",
       "    $( \".ui-button\" ).hover(\n",
       "        function() { $(this).addClass(\"ui-state-hover\");},\n",
       "        function() { $(this).removeClass(\"ui-state-hover\");}\n",
       "    );\n",
       "\n",
       "    var status_bar = $('<span class=\"mpl-message\"/>');\n",
       "    nav_element.append(status_bar);\n",
       "    this.message = status_bar[0];\n",
       "}\n",
       "\n",
       "mpl.figure.prototype.request_resize = function(x_pixels, y_pixels) {\n",
       "    // Request matplotlib to resize the figure. Matplotlib will then trigger a resize in the client,\n",
       "    // which will in turn request a refresh of the image.\n",
       "    this.send_message('resize', {'width': x_pixels, 'height': y_pixels});\n",
       "}\n",
       "\n",
       "mpl.figure.prototype.send_message = function(type, properties) {\n",
       "    properties['type'] = type;\n",
       "    properties['figure_id'] = this.id;\n",
       "    this.ws.send(JSON.stringify(properties));\n",
       "}\n",
       "\n",
       "mpl.figure.prototype.send_draw_message = function() {\n",
       "    if (!this.waiting) {\n",
       "        this.waiting = true;\n",
       "        this.ws.send(JSON.stringify({type: \"draw\", figure_id: this.id}));\n",
       "    }\n",
       "}\n",
       "\n",
       "\n",
       "mpl.figure.prototype.handle_save = function(fig, msg) {\n",
       "    var format_dropdown = fig.format_dropdown;\n",
       "    var format = format_dropdown.options[format_dropdown.selectedIndex].value;\n",
       "    fig.ondownload(fig, format);\n",
       "}\n",
       "\n",
       "\n",
       "mpl.figure.prototype.handle_resize = function(fig, msg) {\n",
       "    var size = msg['size'];\n",
       "    if (size[0] != fig.canvas.width || size[1] != fig.canvas.height) {\n",
       "        fig._resize_canvas(size[0], size[1]);\n",
       "        fig.send_message(\"refresh\", {});\n",
       "    };\n",
       "}\n",
       "\n",
       "mpl.figure.prototype.handle_rubberband = function(fig, msg) {\n",
       "    var x0 = msg['x0'] / mpl.ratio;\n",
       "    var y0 = (fig.canvas.height - msg['y0']) / mpl.ratio;\n",
       "    var x1 = msg['x1'] / mpl.ratio;\n",
       "    var y1 = (fig.canvas.height - msg['y1']) / mpl.ratio;\n",
       "    x0 = Math.floor(x0) + 0.5;\n",
       "    y0 = Math.floor(y0) + 0.5;\n",
       "    x1 = Math.floor(x1) + 0.5;\n",
       "    y1 = Math.floor(y1) + 0.5;\n",
       "    var min_x = Math.min(x0, x1);\n",
       "    var min_y = Math.min(y0, y1);\n",
       "    var width = Math.abs(x1 - x0);\n",
       "    var height = Math.abs(y1 - y0);\n",
       "\n",
       "    fig.rubberband_context.clearRect(\n",
       "        0, 0, fig.canvas.width, fig.canvas.height);\n",
       "\n",
       "    fig.rubberband_context.strokeRect(min_x, min_y, width, height);\n",
       "}\n",
       "\n",
       "mpl.figure.prototype.handle_figure_label = function(fig, msg) {\n",
       "    // Updates the figure title.\n",
       "    fig.header.textContent = msg['label'];\n",
       "}\n",
       "\n",
       "mpl.figure.prototype.handle_cursor = function(fig, msg) {\n",
       "    var cursor = msg['cursor'];\n",
       "    switch(cursor)\n",
       "    {\n",
       "    case 0:\n",
       "        cursor = 'pointer';\n",
       "        break;\n",
       "    case 1:\n",
       "        cursor = 'default';\n",
       "        break;\n",
       "    case 2:\n",
       "        cursor = 'crosshair';\n",
       "        break;\n",
       "    case 3:\n",
       "        cursor = 'move';\n",
       "        break;\n",
       "    }\n",
       "    fig.rubberband_canvas.style.cursor = cursor;\n",
       "}\n",
       "\n",
       "mpl.figure.prototype.handle_message = function(fig, msg) {\n",
       "    fig.message.textContent = msg['message'];\n",
       "}\n",
       "\n",
       "mpl.figure.prototype.handle_draw = function(fig, msg) {\n",
       "    // Request the server to send over a new figure.\n",
       "    fig.send_draw_message();\n",
       "}\n",
       "\n",
       "mpl.figure.prototype.handle_image_mode = function(fig, msg) {\n",
       "    fig.image_mode = msg['mode'];\n",
       "}\n",
       "\n",
       "mpl.figure.prototype.updated_canvas_event = function() {\n",
       "    // Called whenever the canvas gets updated.\n",
       "    this.send_message(\"ack\", {});\n",
       "}\n",
       "\n",
       "// A function to construct a web socket function for onmessage handling.\n",
       "// Called in the figure constructor.\n",
       "mpl.figure.prototype._make_on_message_function = function(fig) {\n",
       "    return function socket_on_message(evt) {\n",
       "        if (evt.data instanceof Blob) {\n",
       "            /* FIXME: We get \"Resource interpreted as Image but\n",
       "             * transferred with MIME type text/plain:\" errors on\n",
       "             * Chrome.  But how to set the MIME type?  It doesn't seem\n",
       "             * to be part of the websocket stream */\n",
       "            evt.data.type = \"image/png\";\n",
       "\n",
       "            /* Free the memory for the previous frames */\n",
       "            if (fig.imageObj.src) {\n",
       "                (window.URL || window.webkitURL).revokeObjectURL(\n",
       "                    fig.imageObj.src);\n",
       "            }\n",
       "\n",
       "            fig.imageObj.src = (window.URL || window.webkitURL).createObjectURL(\n",
       "                evt.data);\n",
       "            fig.updated_canvas_event();\n",
       "            fig.waiting = false;\n",
       "            return;\n",
       "        }\n",
       "        else if (typeof evt.data === 'string' && evt.data.slice(0, 21) == \"data:image/png;base64\") {\n",
       "            fig.imageObj.src = evt.data;\n",
       "            fig.updated_canvas_event();\n",
       "            fig.waiting = false;\n",
       "            return;\n",
       "        }\n",
       "\n",
       "        var msg = JSON.parse(evt.data);\n",
       "        var msg_type = msg['type'];\n",
       "\n",
       "        // Call the  \"handle_{type}\" callback, which takes\n",
       "        // the figure and JSON message as its only arguments.\n",
       "        try {\n",
       "            var callback = fig[\"handle_\" + msg_type];\n",
       "        } catch (e) {\n",
       "            console.log(\"No handler for the '\" + msg_type + \"' message type: \", msg);\n",
       "            return;\n",
       "        }\n",
       "\n",
       "        if (callback) {\n",
       "            try {\n",
       "                // console.log(\"Handling '\" + msg_type + \"' message: \", msg);\n",
       "                callback(fig, msg);\n",
       "            } catch (e) {\n",
       "                console.log(\"Exception inside the 'handler_\" + msg_type + \"' callback:\", e, e.stack, msg);\n",
       "            }\n",
       "        }\n",
       "    };\n",
       "}\n",
       "\n",
       "// from http://stackoverflow.com/questions/1114465/getting-mouse-location-in-canvas\n",
       "mpl.findpos = function(e) {\n",
       "    //this section is from http://www.quirksmode.org/js/events_properties.html\n",
       "    var targ;\n",
       "    if (!e)\n",
       "        e = window.event;\n",
       "    if (e.target)\n",
       "        targ = e.target;\n",
       "    else if (e.srcElement)\n",
       "        targ = e.srcElement;\n",
       "    if (targ.nodeType == 3) // defeat Safari bug\n",
       "        targ = targ.parentNode;\n",
       "\n",
       "    // jQuery normalizes the pageX and pageY\n",
       "    // pageX,Y are the mouse positions relative to the document\n",
       "    // offset() returns the position of the element relative to the document\n",
       "    var x = e.pageX - $(targ).offset().left;\n",
       "    var y = e.pageY - $(targ).offset().top;\n",
       "\n",
       "    return {\"x\": x, \"y\": y};\n",
       "};\n",
       "\n",
       "/*\n",
       " * return a copy of an object with only non-object keys\n",
       " * we need this to avoid circular references\n",
       " * http://stackoverflow.com/a/24161582/3208463\n",
       " */\n",
       "function simpleKeys (original) {\n",
       "  return Object.keys(original).reduce(function (obj, key) {\n",
       "    if (typeof original[key] !== 'object')\n",
       "        obj[key] = original[key]\n",
       "    return obj;\n",
       "  }, {});\n",
       "}\n",
       "\n",
       "mpl.figure.prototype.mouse_event = function(event, name) {\n",
       "    var canvas_pos = mpl.findpos(event)\n",
       "\n",
       "    if (name === 'button_press')\n",
       "    {\n",
       "        this.canvas.focus();\n",
       "        this.canvas_div.focus();\n",
       "    }\n",
       "\n",
       "    var x = canvas_pos.x * mpl.ratio;\n",
       "    var y = canvas_pos.y * mpl.ratio;\n",
       "\n",
       "    this.send_message(name, {x: x, y: y, button: event.button,\n",
       "                             step: event.step,\n",
       "                             guiEvent: simpleKeys(event)});\n",
       "\n",
       "    /* This prevents the web browser from automatically changing to\n",
       "     * the text insertion cursor when the button is pressed.  We want\n",
       "     * to control all of the cursor setting manually through the\n",
       "     * 'cursor' event from matplotlib */\n",
       "    event.preventDefault();\n",
       "    return false;\n",
       "}\n",
       "\n",
       "mpl.figure.prototype._key_event_extra = function(event, name) {\n",
       "    // Handle any extra behaviour associated with a key event\n",
       "}\n",
       "\n",
       "mpl.figure.prototype.key_event = function(event, name) {\n",
       "\n",
       "    // Prevent repeat events\n",
       "    if (name == 'key_press')\n",
       "    {\n",
       "        if (event.which === this._key)\n",
       "            return;\n",
       "        else\n",
       "            this._key = event.which;\n",
       "    }\n",
       "    if (name == 'key_release')\n",
       "        this._key = null;\n",
       "\n",
       "    var value = '';\n",
       "    if (event.ctrlKey && event.which != 17)\n",
       "        value += \"ctrl+\";\n",
       "    if (event.altKey && event.which != 18)\n",
       "        value += \"alt+\";\n",
       "    if (event.shiftKey && event.which != 16)\n",
       "        value += \"shift+\";\n",
       "\n",
       "    value += 'k';\n",
       "    value += event.which.toString();\n",
       "\n",
       "    this._key_event_extra(event, name);\n",
       "\n",
       "    this.send_message(name, {key: value,\n",
       "                             guiEvent: simpleKeys(event)});\n",
       "    return false;\n",
       "}\n",
       "\n",
       "mpl.figure.prototype.toolbar_button_onclick = function(name) {\n",
       "    if (name == 'download') {\n",
       "        this.handle_save(this, null);\n",
       "    } else {\n",
       "        this.send_message(\"toolbar_button\", {name: name});\n",
       "    }\n",
       "};\n",
       "\n",
       "mpl.figure.prototype.toolbar_button_onmouseover = function(tooltip) {\n",
       "    this.message.textContent = tooltip;\n",
       "};\n",
       "mpl.toolbar_items = [[\"Home\", \"Reset original view\", \"fa fa-home icon-home\", \"home\"], [\"Back\", \"Back to  previous view\", \"fa fa-arrow-left icon-arrow-left\", \"back\"], [\"Forward\", \"Forward to next view\", \"fa fa-arrow-right icon-arrow-right\", \"forward\"], [\"\", \"\", \"\", \"\"], [\"Pan\", \"Pan axes with left mouse, zoom with right\", \"fa fa-arrows icon-move\", \"pan\"], [\"Zoom\", \"Zoom to rectangle\", \"fa fa-square-o icon-check-empty\", \"zoom\"], [\"\", \"\", \"\", \"\"], [\"Download\", \"Download plot\", \"fa fa-floppy-o icon-save\", \"download\"]];\n",
       "\n",
       "mpl.extensions = [\"eps\", \"pdf\", \"png\", \"ps\", \"raw\", \"svg\"];\n",
       "\n",
       "mpl.default_extension = \"png\";var comm_websocket_adapter = function(comm) {\n",
       "    // Create a \"websocket\"-like object which calls the given IPython comm\n",
       "    // object with the appropriate methods. Currently this is a non binary\n",
       "    // socket, so there is still some room for performance tuning.\n",
       "    var ws = {};\n",
       "\n",
       "    ws.close = function() {\n",
       "        comm.close()\n",
       "    };\n",
       "    ws.send = function(m) {\n",
       "        //console.log('sending', m);\n",
       "        comm.send(m);\n",
       "    };\n",
       "    // Register the callback with on_msg.\n",
       "    comm.on_msg(function(msg) {\n",
       "        //console.log('receiving', msg['content']['data'], msg);\n",
       "        // Pass the mpl event to the overriden (by mpl) onmessage function.\n",
       "        ws.onmessage(msg['content']['data'])\n",
       "    });\n",
       "    return ws;\n",
       "}\n",
       "\n",
       "mpl.mpl_figure_comm = function(comm, msg) {\n",
       "    // This is the function which gets called when the mpl process\n",
       "    // starts-up an IPython Comm through the \"matplotlib\" channel.\n",
       "\n",
       "    var id = msg.content.data.id;\n",
       "    // Get hold of the div created by the display call when the Comm\n",
       "    // socket was opened in Python.\n",
       "    var element = $(\"#\" + id);\n",
       "    var ws_proxy = comm_websocket_adapter(comm)\n",
       "\n",
       "    function ondownload(figure, format) {\n",
       "        window.open(figure.imageObj.src);\n",
       "    }\n",
       "\n",
       "    var fig = new mpl.figure(id, ws_proxy,\n",
       "                           ondownload,\n",
       "                           element.get(0));\n",
       "\n",
       "    // Call onopen now - mpl needs it, as it is assuming we've passed it a real\n",
       "    // web socket which is closed, not our websocket->open comm proxy.\n",
       "    ws_proxy.onopen();\n",
       "\n",
       "    fig.parent_element = element.get(0);\n",
       "    fig.cell_info = mpl.find_output_cell(\"<div id='\" + id + \"'></div>\");\n",
       "    if (!fig.cell_info) {\n",
       "        console.error(\"Failed to find cell for figure\", id, fig);\n",
       "        return;\n",
       "    }\n",
       "\n",
       "    var output_index = fig.cell_info[2]\n",
       "    var cell = fig.cell_info[0];\n",
       "\n",
       "};\n",
       "\n",
       "mpl.figure.prototype.handle_close = function(fig, msg) {\n",
       "    var width = fig.canvas.width/mpl.ratio\n",
       "    fig.root.unbind('remove')\n",
       "\n",
       "    // Update the output cell to use the data from the current canvas.\n",
       "    fig.push_to_output();\n",
       "    var dataURL = fig.canvas.toDataURL();\n",
       "    // Re-enable the keyboard manager in IPython - without this line, in FF,\n",
       "    // the notebook keyboard shortcuts fail.\n",
       "    IPython.keyboard_manager.enable()\n",
       "    $(fig.parent_element).html('<img src=\"' + dataURL + '\" width=\"' + width + '\">');\n",
       "    fig.close_ws(fig, msg);\n",
       "}\n",
       "\n",
       "mpl.figure.prototype.close_ws = function(fig, msg){\n",
       "    fig.send_message('closing', msg);\n",
       "    // fig.ws.close()\n",
       "}\n",
       "\n",
       "mpl.figure.prototype.push_to_output = function(remove_interactive) {\n",
       "    // Turn the data on the canvas into data in the output cell.\n",
       "    var width = this.canvas.width/mpl.ratio\n",
       "    var dataURL = this.canvas.toDataURL();\n",
       "    this.cell_info[1]['text/html'] = '<img src=\"' + dataURL + '\" width=\"' + width + '\">';\n",
       "}\n",
       "\n",
       "mpl.figure.prototype.updated_canvas_event = function() {\n",
       "    // Tell IPython that the notebook contents must change.\n",
       "    IPython.notebook.set_dirty(true);\n",
       "    this.send_message(\"ack\", {});\n",
       "    var fig = this;\n",
       "    // Wait a second, then push the new image to the DOM so\n",
       "    // that it is saved nicely (might be nice to debounce this).\n",
       "    setTimeout(function () { fig.push_to_output() }, 1000);\n",
       "}\n",
       "\n",
       "mpl.figure.prototype._init_toolbar = function() {\n",
       "    var fig = this;\n",
       "\n",
       "    var nav_element = $('<div/>')\n",
       "    nav_element.attr('style', 'width: 100%');\n",
       "    this.root.append(nav_element);\n",
       "\n",
       "    // Define a callback function for later on.\n",
       "    function toolbar_event(event) {\n",
       "        return fig.toolbar_button_onclick(event['data']);\n",
       "    }\n",
       "    function toolbar_mouse_event(event) {\n",
       "        return fig.toolbar_button_onmouseover(event['data']);\n",
       "    }\n",
       "\n",
       "    for(var toolbar_ind in mpl.toolbar_items){\n",
       "        var name = mpl.toolbar_items[toolbar_ind][0];\n",
       "        var tooltip = mpl.toolbar_items[toolbar_ind][1];\n",
       "        var image = mpl.toolbar_items[toolbar_ind][2];\n",
       "        var method_name = mpl.toolbar_items[toolbar_ind][3];\n",
       "\n",
       "        if (!name) { continue; };\n",
       "\n",
       "        var button = $('<button class=\"btn btn-default\" href=\"#\" title=\"' + name + '\"><i class=\"fa ' + image + ' fa-lg\"></i></button>');\n",
       "        button.click(method_name, toolbar_event);\n",
       "        button.mouseover(tooltip, toolbar_mouse_event);\n",
       "        nav_element.append(button);\n",
       "    }\n",
       "\n",
       "    // Add the status bar.\n",
       "    var status_bar = $('<span class=\"mpl-message\" style=\"text-align:right; float: right;\"/>');\n",
       "    nav_element.append(status_bar);\n",
       "    this.message = status_bar[0];\n",
       "\n",
       "    // Add the close button to the window.\n",
       "    var buttongrp = $('<div class=\"btn-group inline pull-right\"></div>');\n",
       "    var button = $('<button class=\"btn btn-mini btn-primary\" href=\"#\" title=\"Stop Interaction\"><i class=\"fa fa-power-off icon-remove icon-large\"></i></button>');\n",
       "    button.click(function (evt) { fig.handle_close(fig, {}); } );\n",
       "    button.mouseover('Stop Interaction', toolbar_mouse_event);\n",
       "    buttongrp.append(button);\n",
       "    var titlebar = this.root.find($('.ui-dialog-titlebar'));\n",
       "    titlebar.prepend(buttongrp);\n",
       "}\n",
       "\n",
       "mpl.figure.prototype._root_extra_style = function(el){\n",
       "    var fig = this\n",
       "    el.on(\"remove\", function(){\n",
       "\tfig.close_ws(fig, {});\n",
       "    });\n",
       "}\n",
       "\n",
       "mpl.figure.prototype._canvas_extra_style = function(el){\n",
       "    // this is important to make the div 'focusable\n",
       "    el.attr('tabindex', 0)\n",
       "    // reach out to IPython and tell the keyboard manager to turn it's self\n",
       "    // off when our div gets focus\n",
       "\n",
       "    // location in version 3\n",
       "    if (IPython.notebook.keyboard_manager) {\n",
       "        IPython.notebook.keyboard_manager.register_events(el);\n",
       "    }\n",
       "    else {\n",
       "        // location in version 2\n",
       "        IPython.keyboard_manager.register_events(el);\n",
       "    }\n",
       "\n",
       "}\n",
       "\n",
       "mpl.figure.prototype._key_event_extra = function(event, name) {\n",
       "    var manager = IPython.notebook.keyboard_manager;\n",
       "    if (!manager)\n",
       "        manager = IPython.keyboard_manager;\n",
       "\n",
       "    // Check for shift+enter\n",
       "    if (event.shiftKey && event.which == 13) {\n",
       "        this.canvas_div.blur();\n",
       "        // select the cell after this one\n",
       "        var index = IPython.notebook.find_cell_index(this.cell_info[0]);\n",
       "        IPython.notebook.select(index + 1);\n",
       "    }\n",
       "}\n",
       "\n",
       "mpl.figure.prototype.handle_save = function(fig, msg) {\n",
       "    fig.ondownload(fig, null);\n",
       "}\n",
       "\n",
       "\n",
       "mpl.find_output_cell = function(html_output) {\n",
       "    // Return the cell and output element which can be found *uniquely* in the notebook.\n",
       "    // Note - this is a bit hacky, but it is done because the \"notebook_saving.Notebook\"\n",
       "    // IPython event is triggered only after the cells have been serialised, which for\n",
       "    // our purposes (turning an active figure into a static one), is too late.\n",
       "    var cells = IPython.notebook.get_cells();\n",
       "    var ncells = cells.length;\n",
       "    for (var i=0; i<ncells; i++) {\n",
       "        var cell = cells[i];\n",
       "        if (cell.cell_type === 'code'){\n",
       "            for (var j=0; j<cell.output_area.outputs.length; j++) {\n",
       "                var data = cell.output_area.outputs[j];\n",
       "                if (data.data) {\n",
       "                    // IPython >= 3 moved mimebundle to data attribute of output\n",
       "                    data = data.data;\n",
       "                }\n",
       "                if (data['text/html'] == html_output) {\n",
       "                    return [cell, data, j];\n",
       "                }\n",
       "            }\n",
       "        }\n",
       "    }\n",
       "}\n",
       "\n",
       "// Register the function which deals with the matplotlib target/channel.\n",
       "// The kernel may be null if the page has been refreshed.\n",
       "if (IPython.notebook.kernel != null) {\n",
       "    IPython.notebook.kernel.comm_manager.register_target('matplotlib', mpl.mpl_figure_comm);\n",
       "}\n"
      ],
      "text/plain": [
       "<IPython.core.display.Javascript object>"
      ]
     },
     "metadata": {},
     "output_type": "display_data"
    },
    {
     "data": {
      "text/html": [
       "<img src=\"data:image/png;base64,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\" width=\"639.6499809369451\">"
      ],
      "text/plain": [
       "<IPython.core.display.HTML object>"
      ]
     },
     "metadata": {},
     "output_type": "display_data"
    }
   ],
   "source": [
    "a = ca.read('../calour/tests/data/test2.biom', '../calour/tests/data/test2.sample', '../calour/tests/data/test2.feature')\n",
    "b = a.plot(sample_field='group', gui='jupyter')"
   ]
  }
 ],
 "metadata": {
  "kernelspec": {
   "display_name": "Python 3",
   "language": "python",
   "name": "python3"
  },
  "language_info": {
   "codemirror_mode": {
    "name": "ipython",
    "version": 3
   },
   "file_extension": ".py",
   "mimetype": "text/x-python",
   "name": "python",
   "nbconvert_exporter": "python",
   "pygments_lexer": "ipython3",
   "version": "3.5.2"
  },
  "widgets": {
   "state": {
    "03b1051e3ed1444d9bff67d712c1f7f2": {
     "views": [
      {
       "cell_index": 1
      }
     ]
    },
    "23f594ea52054a9ab9645c88e07a7a5f": {
     "views": [
      {
       "cell_index": 1
      }
     ]
    },
    "29403ce1fb7643b1ae5b654b062c6c6a": {
     "views": [
      {
       "cell_index": 1
      }
     ]
    },
    "2a7d073b9d39409b9d4b86bf7b450243": {
     "views": [
      {
       "cell_index": 1
      }
     ]
    },
    "2b1ef15f048446f9948839972c5a99d3": {
     "views": [
      {
       "cell_index": 1
      }
     ]
    },
    "2b9d8f678f504fcf9bfe9a8a396e1a33": {
     "views": [
      {
       "cell_index": 1
      }
     ]
    },
    "2bb45ce51b20472d915f463c5b0a809f": {
     "views": [
      {
       "cell_index": 1
      }
     ]
    },
    "3880ba791bf54104ac991a603cbc3630": {
     "views": [
      {
       "cell_index": 1
      }
     ]
    },
    "54bbde9131404339b896fcc88bda7dcb": {
     "views": [
      {
       "cell_index": 1
      }
     ]
    },
    "5de59e8f57dc438b89d6b4a252220fe9": {
     "views": [
      {
       "cell_index": 1
      }
     ]
    },
    "64d5458f6d87401fabc7a6f103bfdc85": {
     "views": [
      {
       "cell_index": 1
      }
     ]
    },
    "69bb58840dd044c3b00f1386cca69a4e": {
     "views": [
      {
       "cell_index": 1
      }
     ]
    },
    "753e02e1e5f74b7884a6bec061d61aa2": {
     "views": [
      {
       "cell_index": 1
      }
     ]
    },
    "7cca20faf2e84ed3af264390a166d9dc": {
     "views": [
      {
       "cell_index": 1
      }
     ]
    },
    "840cf15f6eb4487ab8d3a50d285cf10d": {
     "views": [
      {
       "cell_index": 1
      }
     ]
    },
    "8606b4dc1f314575b5347c5eea9d2432": {
     "views": [
      {
       "cell_index": 1
      }
     ]
    },
    "87eeb8e499ad4c09831657e9f7d026eb": {
     "views": [
      {
       "cell_index": 1
      }
     ]
    },
    "929ea8113c0c4e28b21fcebc2c2ac0b5": {
     "views": [
      {
       "cell_index": 1
      }
     ]
    },
    "9f0b6067bd5c45c4971a3d1077a2d236": {
     "views": [
      {
       "cell_index": 1
      }
     ]
    },
    "ab73775f582d47a1903800f73b9a614b": {
     "views": [
      {
       "cell_index": 1
      }
     ]
    },
    "abe0561994144972a2b284cfa463012d": {
     "views": [
      {
       "cell_index": 1
      }
     ]
    },
    "be6015f7bf0c4c8bbb9dfa83eab03f46": {
     "views": [
      {
       "cell_index": 1
      }
     ]
    },
    "c08bf8d579ba47729d105bdc71e592e6": {
     "views": [
      {
       "cell_index": 1
      }
     ]
    },
    "c1a61743f3674e2a8fdf4ff0df96a036": {
     "views": [
      {
       "cell_index": 1
      }
     ]
    },
    "c5fe7dd09394446e835ea7eb293f647d": {
     "views": [
      {
       "cell_index": 1
      }
     ]
    },
    "c81e06b05f654f54a2088180cc349234": {
     "views": [
      {
       "cell_index": 1
      }
     ]
    },
    "c95aad4aeaae4f30b21dcb332e90bd0a": {
     "views": [
      {
       "cell_index": 1
      }
     ]
    },
    "ca1643d9b3a44957970885c0b958a7fe": {
     "views": [
      {
       "cell_index": 1
      }
     ]
    },
    "d359cebdebdb49969fad08563efe785c": {
     "views": [
      {
       "cell_index": 1
      }
     ]
    },
    "d35f50133dfe452fb127e1ea1b2d14b7": {
     "views": [
      {
       "cell_index": 1
      }
     ]
    },
    "d6b59c71634b474b95d859ae2260a0b7": {
     "views": [
      {
       "cell_index": 1
      }
     ]
    },
    "d9c9dc26bdba417a884fb693ebbb383f": {
     "views": [
      {
       "cell_index": 1
      }
     ]
    },
    "dbe7714c63434732b0a808603dbbcd3d": {
     "views": [
      {
       "cell_index": 1
      }
     ]
    },
    "e0cd5116a6894a2eb2b6e8b7caafc702": {
     "views": [
      {
       "cell_index": 1
      }
     ]
    },
    "ea1f091055844323b89d9a62ee13c951": {
     "views": [
      {
       "cell_index": 1
      }
     ]
    },
    "ed5d9392b3674b66a1e5724f3b4e1b86": {
     "views": [
      {
       "cell_index": 1
      }
     ]
    },
    "f040d956930a489fbe203d189636db62": {
     "views": [
      {
       "cell_index": 1
      }
     ]
    },
    "f09389bfe0bd417b914e3bb65049228f": {
     "views": [
      {
       "cell_index": 1
      }
     ]
    },
    "f97c048f9b9b4698a6e2fa45e1340648": {
     "views": [
      {
       "cell_index": 1
      }
     ]
    },
    "fb51d95c266c485bb11ccd7c924d02da": {
     "views": [
      {
       "cell_index": 1
      }
     ]
    },
    "ffd2a4b04d34480ab69eb3dd12b0205e": {
     "views": [
      {
       "cell_index": 1
      }
     ]
    }
   },
   "version": "1.2.0"
  }
 },
 "nbformat": 4,
 "nbformat_minor": 1
}
